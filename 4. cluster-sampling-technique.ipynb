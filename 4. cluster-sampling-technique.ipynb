{
 "cells": [
  {
   "cell_type": "code",
   "execution_count": 13,
   "id": "c9ddfb5a-05d8-4366-9537-98557394dac6",
   "metadata": {},
   "outputs": [],
   "source": [
    "import pandas as pd\n",
    "import numpy as np\n"
   ]
  },
  {
   "cell_type": "markdown",
   "id": "760743fa-1d77-45ae-b02c-6d511fb0f3aa",
   "metadata": {},
   "source": [
    "### example 1"
   ]
  },
  {
   "cell_type": "code",
   "execution_count": 17,
   "id": "258e6b46-de69-48d3-816d-3dd43555fb10",
   "metadata": {},
   "outputs": [
    {
     "data": {
      "text/html": [
       "<div>\n",
       "<style scoped>\n",
       "    .dataframe tbody tr th:only-of-type {\n",
       "        vertical-align: middle;\n",
       "    }\n",
       "\n",
       "    .dataframe tbody tr th {\n",
       "        vertical-align: top;\n",
       "    }\n",
       "\n",
       "    .dataframe thead th {\n",
       "        text-align: right;\n",
       "    }\n",
       "</style>\n",
       "<table border=\"1\" class=\"dataframe\">\n",
       "  <thead>\n",
       "    <tr style=\"text-align: right;\">\n",
       "      <th></th>\n",
       "      <th>Student_ID</th>\n",
       "      <th>School</th>\n",
       "      <th>Test_Score</th>\n",
       "    </tr>\n",
       "  </thead>\n",
       "  <tbody>\n",
       "    <tr>\n",
       "      <th>0</th>\n",
       "      <td>1</td>\n",
       "      <td>School_E</td>\n",
       "      <td>67</td>\n",
       "    </tr>\n",
       "    <tr>\n",
       "      <th>1</th>\n",
       "      <td>2</td>\n",
       "      <td>School_C</td>\n",
       "      <td>82</td>\n",
       "    </tr>\n",
       "    <tr>\n",
       "      <th>2</th>\n",
       "      <td>3</td>\n",
       "      <td>School_A</td>\n",
       "      <td>52</td>\n",
       "    </tr>\n",
       "    <tr>\n",
       "      <th>3</th>\n",
       "      <td>4</td>\n",
       "      <td>School_A</td>\n",
       "      <td>79</td>\n",
       "    </tr>\n",
       "    <tr>\n",
       "      <th>4</th>\n",
       "      <td>5</td>\n",
       "      <td>School_E</td>\n",
       "      <td>53</td>\n",
       "    </tr>\n",
       "  </tbody>\n",
       "</table>\n",
       "</div>"
      ],
      "text/plain": [
       "   Student_ID    School  Test_Score\n",
       "0           1  School_E          67\n",
       "1           2  School_C          82\n",
       "2           3  School_A          52\n",
       "3           4  School_A          79\n",
       "4           5  School_E          53"
      ]
     },
     "execution_count": 17,
     "metadata": {},
     "output_type": "execute_result"
    }
   ],
   "source": [
    "data = {\n",
    "    'Student_ID': range(1, 101),\n",
    "    'School': np.random.choice(['School_A', 'School_B', 'School_C', 'School_D', 'School_E'], size=100),\n",
    "    'Test_Score': np.random.randint(50, 100, size=100)\n",
    "}\n",
    "df=pd.DataFrame(data)\n",
    "df.head()\n"
   ]
  },
  {
   "cell_type": "code",
   "execution_count": 23,
   "id": "8ce5f095-6606-49a9-81da-42d47ac69bb4",
   "metadata": {},
   "outputs": [
    {
     "name": "stdout",
     "output_type": "stream",
     "text": [
      "\n",
      "Number of students in each school:\n",
      "School\n",
      "School_D    25\n",
      "School_C    22\n",
      "School_E    18\n",
      "School_B    18\n",
      "School_A    17\n",
      "Name: count, dtype: int64\n"
     ]
    }
   ],
   "source": [
    "# Group students by school (clusters)\n",
    "print(\"\\nNumber of students in each school:\")\n",
    "\n",
    "print(df['School'].value_counts())"
   ]
  },
  {
   "cell_type": "code",
   "execution_count": 29,
   "id": "ef4dbb30-20f8-4737-9cc8-cbbe8f9fc726",
   "metadata": {},
   "outputs": [
    {
     "name": "stdout",
     "output_type": "stream",
     "text": [
      "selected cluster(school)\n",
      " ['School_A' 'School_D']\n"
     ]
    }
   ],
   "source": [
    "# random select cluster (2 school)\n",
    "selected_cluster=np.random.choice(df['School'].unique(),size=2,replace=False)\n",
    "print(\"selected cluster(school)\\n\",selected_cluster)\n"
   ]
  },
  {
   "cell_type": "code",
   "execution_count": 31,
   "id": "7bdba686-f91b-4142-8e12-2cab3b934070",
   "metadata": {},
   "outputs": [
    {
     "name": "stdout",
     "output_type": "stream",
     "text": [
      "    Student_ID    School  Test_Score\n",
      "2            3  School_A          52\n",
      "3            4  School_A          79\n",
      "6            7  School_A          80\n",
      "8            9  School_A          79\n",
      "11          12  School_A          52\n",
      "12          13  School_D          94\n",
      "13          14  School_A          65\n",
      "14          15  School_A          96\n",
      "15          16  School_A          51\n",
      "21          22  School_D          58\n",
      "23          24  School_D          77\n",
      "27          28  School_D          56\n",
      "28          29  School_D          80\n",
      "30          31  School_A          55\n",
      "31          32  School_D          95\n",
      "36          37  School_D          71\n",
      "38          39  School_A          78\n",
      "43          44  School_D          92\n",
      "46          47  School_D          91\n",
      "49          50  School_D          90\n",
      "51          52  School_D          90\n",
      "52          53  School_D          83\n",
      "53          54  School_D          61\n",
      "58          59  School_A          91\n",
      "59          60  School_D          97\n",
      "60          61  School_D          58\n",
      "61          62  School_D          92\n",
      "63          64  School_D          52\n",
      "66          67  School_D          92\n",
      "67          68  School_A          52\n",
      "70          71  School_D          61\n",
      "71          72  School_A          83\n",
      "72          73  School_A          83\n",
      "75          76  School_D          81\n",
      "76          77  School_D          82\n",
      "78          79  School_A          57\n",
      "80          81  School_D          50\n",
      "81          82  School_D          93\n",
      "84          85  School_D          88\n",
      "91          92  School_A          66\n",
      "94          95  School_A          68\n",
      "99         100  School_D          51\n"
     ]
    }
   ],
   "source": [
    "# filter dataset from selected cluster (school)\n",
    "sample=df[df[\"School\"].isin(selected_cluster)]\n",
    "print(sample)"
   ]
  },
  {
   "cell_type": "code",
   "execution_count": 39,
   "id": "211d2f9c-856b-43e5-8e17-0f225365993e",
   "metadata": {},
   "outputs": [
    {
     "name": "stdout",
     "output_type": "stream",
     "text": [
      "mean score test from sample :   74.33333333333333\n"
     ]
    }
   ],
   "source": [
    "# Calculate the mean test score from the sample\n",
    "mean_test_score=sample['Test_Score'].mean()\n",
    "print(\"mean score test from sample :  \",mean_test_score)\n"
   ]
  },
  {
   "cell_type": "markdown",
   "id": "3a5b8104-f162-470d-90ab-3d604693b484",
   "metadata": {},
   "source": [
    "### example 2"
   ]
  },
  {
   "cell_type": "code",
   "execution_count": 46,
   "id": "875a7488-5e6e-48f6-a601-6960eeb5ff79",
   "metadata": {},
   "outputs": [
    {
     "name": "stdout",
     "output_type": "stream",
     "text": [
      "Selected Regions: ['North' 'East']\n",
      "Selected Districts: ['East_District_2' 'East_District_5' 'East_District_3' 'North_District_2'\n",
      " 'North_District_5' 'North_District_3']\n",
      "Selected Villages: ['East_District_2_Village_9' 'East_District_2_Village_2'\n",
      " 'East_District_2_Village_6' 'East_District_2_Village_1'\n",
      " 'East_District_2_Village_8' 'East_District_3_Village_9'\n",
      " 'East_District_3_Village_2' 'East_District_3_Village_6'\n",
      " 'East_District_3_Village_1' 'East_District_3_Village_8'\n",
      " 'East_District_5_Village_9' 'East_District_5_Village_2'\n",
      " 'East_District_5_Village_6' 'East_District_5_Village_1'\n",
      " 'East_District_5_Village_8' 'North_District_2_Village_9'\n",
      " 'North_District_2_Village_2' 'North_District_2_Village_6'\n",
      " 'North_District_2_Village_1' 'North_District_2_Village_8'\n",
      " 'North_District_3_Village_9' 'North_District_3_Village_2'\n",
      " 'North_District_3_Village_6' 'North_District_3_Village_1'\n",
      " 'North_District_3_Village_8' 'North_District_5_Village_9'\n",
      " 'North_District_5_Village_2' 'North_District_5_Village_6'\n",
      " 'North_District_5_Village_1' 'North_District_5_Village_8']\n",
      "\n",
      "Final Sample Size: 3000\n",
      "Estimated Diabetes Prevalence in Sample: 0.15333333333333332\n"
     ]
    }
   ],
   "source": [
    "\n",
    "\n",
    "# Step 1: Create a synthetic dataset\n",
    "np.random.seed(42)\n",
    "\n",
    "# Create regions, districts, and villages\n",
    "regions = ['North', 'South', 'East', 'West']\n",
    "districts_per_region = 5\n",
    "villages_per_district = 10\n",
    "individuals_per_village = 100\n",
    "\n",
    "# Generate dataset\n",
    "data = []\n",
    "for region in regions:\n",
    "    for district in range(1, districts_per_region + 1):\n",
    "        for village in range(1, villages_per_district + 1):\n",
    "            for individual in range(1, individuals_per_village + 1):\n",
    "                data.append({\n",
    "                    'Region': region,\n",
    "                    'District': f\"{region}_District_{district}\",\n",
    "                    'Village': f\"{region}_District_{district}_Village_{village}\",\n",
    "                    'Individual_ID': f\"{region}_D{district}_V{village}_I{individual}\",\n",
    "                    'Diabetes': np.random.choice([0, 1], p=[0.85, 0.15])  # 15% prevalence rate\n",
    "                })\n",
    "\n",
    "# Create DataFrame\n",
    "df = pd.DataFrame(data)\n",
    "\n",
    "# Step 2: Perform Cluster Sampling\n",
    "# Select 2 random regions\n",
    "selected_regions = np.random.choice(df['Region'].unique(), size=2, replace=False)\n",
    "print(\"Selected Regions:\", selected_regions)\n",
    "\n",
    "# Filter for selected regions\n",
    "region_sample = df[df['Region'].isin(selected_regions)]\n",
    "\n",
    "# Select 3 random districts from each selected region\n",
    "selected_districts = region_sample['District'].drop_duplicates().groupby(region_sample['Region']).apply(\n",
    "    lambda x: x.sample(3, random_state=42)).values\n",
    "print(\"Selected Districts:\", selected_districts)\n",
    "\n",
    "# Filter for selected districts\n",
    "district_sample = region_sample[region_sample['District'].isin(selected_districts)]\n",
    "\n",
    "# Select 5 random villages from each selected district\n",
    "selected_villages = district_sample['Village'].drop_duplicates().groupby(district_sample['District']).apply(\n",
    "    lambda x: x.sample(5, random_state=42)).values\n",
    "print(\"Selected Villages:\", selected_villages)\n",
    "\n",
    "# Filter for selected villages\n",
    "final_sample = district_sample[district_sample['Village'].isin(selected_villages)]\n",
    "\n",
    "# Step 3: Analyze the Sample\n",
    "print(\"\\nFinal Sample Size:\", final_sample.shape[0])\n",
    "diabetes_rate = final_sample['Diabetes'].mean()\n",
    "print(\"Estimated Diabetes Prevalence in Sample:\", diabetes_rate)\n"
   ]
  },
  {
   "cell_type": "code",
   "execution_count": null,
   "id": "8d5c81c4-8e23-4b50-addd-7ba59e74cd04",
   "metadata": {},
   "outputs": [],
   "source": []
  }
 ],
 "metadata": {
  "kernelspec": {
   "display_name": "Python 3 (ipykernel)",
   "language": "python",
   "name": "python3"
  },
  "language_info": {
   "codemirror_mode": {
    "name": "ipython",
    "version": 3
   },
   "file_extension": ".py",
   "mimetype": "text/x-python",
   "name": "python",
   "nbconvert_exporter": "python",
   "pygments_lexer": "ipython3",
   "version": "3.12.4"
  }
 },
 "nbformat": 4,
 "nbformat_minor": 5
}
