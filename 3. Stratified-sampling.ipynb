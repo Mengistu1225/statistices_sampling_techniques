{
 "cells": [
  {
   "cell_type": "markdown",
   "id": "33e74831-bc8d-4ac8-a8b6-1ba2f3675362",
   "metadata": {},
   "source": [
    "\n",
    "### Stratified Sampling:\n",
    "Stratified sampling is a sampling technique in which the population is divided into distinct groups, called strata, based on specific characteristics (e.g., age, gender, income level). Then, a random sample is taken from each stratum, ensuring that the sample represents all subgroups in the population proportionally.\n",
    "\n",
    "This method is used to improve the representativeness of the sample, especially when the population is heterogeneous."
   ]
  },
  {
   "cell_type": "markdown",
   "id": "066a4bd7-ddcf-4521-a559-bb655874e3a8",
   "metadata": {},
   "source": [
    "### Steps in Stratified Sampling:\n",
    "1 Divide the Population into Strata:\n",
    "\n",
    "    - Identify the relevant characteristic(s) and divide the population into non-overlapping subgroups (strata).\n",
    "2 Determine Sample Size for Each Stratum:\n",
    "\n",
    "    - Decide the proportion of the sample to be taken from each stratum. This can be based on the size of the stratum relative to the entire population (proportional allocation) or a fixed number per stratum (equal allocation).\n",
    "3 Random Sampling within Strata:\n",
    "\n",
    "     - Perform simple random sampling within each stratum to select the required number of samples.\n",
    "4 Combine Samples:\n",
    "\n",
    "     - Merge the samples from all strata to form the final stratified sample."
   ]
  },
  {
   "cell_type": "code",
   "execution_count": 5,
   "id": "8b43467a-e131-443b-b5a6-3c9364df38fc",
   "metadata": {},
   "outputs": [
    {
     "name": "stdout",
     "output_type": "stream",
     "text": [
      "Population Distribution:\n",
      "Age_Group\n",
      "Adult     57\n",
      "Youth     29\n",
      "Senior    14\n",
      "Name: count, dtype: int64\n",
      "\n",
      "Stratified Sample Distribution:\n",
      "Age_Group\n",
      "Adult     17\n",
      "Youth      8\n",
      "Senior     4\n",
      "Name: count, dtype: int64\n",
      "\n",
      "Stratified Sample Data:\n",
      "    Customer_ID Age_Group  Satisfaction_Score\n",
      "4             5     Adult                   3\n",
      "11           12     Adult                   1\n",
      "52           53     Adult                   3\n",
      "25           26     Adult                   3\n",
      "61           62     Adult                   2\n",
      "98           99     Adult                   4\n",
      "47           48     Adult                   1\n",
      "55           56     Adult                   1\n",
      "82           83     Adult                   2\n",
      "24           25     Adult                   2\n",
      "84           85     Adult                   4\n",
      "7             8     Adult                   3\n",
      "79           80     Adult                   4\n",
      "46           47     Adult                   2\n",
      "16           17     Adult                   2\n",
      "30           31     Adult                   5\n",
      "13           14     Adult                   5\n",
      "71           72    Senior                   5\n",
      "87           88    Senior                   5\n",
      "1             2    Senior                   3\n",
      "90           91    Senior                   5\n",
      "93           94     Youth                   3\n",
      "57           58     Youth                   3\n",
      "42           43     Youth                   3\n",
      "68           69     Youth                   2\n",
      "27           28     Youth                   2\n",
      "33           34     Youth                   2\n",
      "65           66     Youth                   1\n",
      "0             1     Youth                   1\n"
     ]
    },
    {
     "name": "stderr",
     "output_type": "stream",
     "text": [
      "/tmp/ipykernel_32213/1112183046.py:28: DeprecationWarning: DataFrameGroupBy.apply operated on the grouping columns. This behavior is deprecated, and in a future version of pandas the grouping columns will be excluded from the operation. Either pass `include_groups=False` to exclude the groupings or explicitly select the grouping columns after groupby to silence this warning.\n",
      "  stratified_sample_df = df.groupby('Age_Group', group_keys=False).apply(stratified_sample)\n"
     ]
    }
   ],
   "source": [
    "import pandas as pd\n",
    "import numpy as np\n",
    "\n",
    "# Sample population data\n",
    "data = {\n",
    "    'Customer_ID': range(1, 101),  # 100 customers\n",
    "    'Age_Group': np.random.choice(['Youth', 'Adult', 'Senior'], size=100, p=[0.3, 0.5, 0.2]),\n",
    "    'Satisfaction_Score': np.random.randint(1, 6, size=100)  # Satisfaction scores (1–5)\n",
    "}\n",
    "\n",
    "df = pd.DataFrame(data)\n",
    "\n",
    "# Display population distribution by strata\n",
    "print(\"Population Distribution:\")\n",
    "print(df['Age_Group'].value_counts())\n",
    "\n",
    "# Stratified sampling\n",
    "sample_size = 30  # Total sample size\n",
    "strata_proportions = df['Age_Group'].value_counts(normalize=True)  # Calculate proportions\n",
    "strata_sample_sizes = (strata_proportions * sample_size).astype(int)  # Calculate samples per stratum\n",
    "\n",
    "# Function to sample within each stratum\n",
    "def stratified_sample(group):\n",
    "    n = strata_sample_sizes[group.name]  # Get sample size for the current stratum\n",
    "    return group.sample(n=n, random_state=42)\n",
    "\n",
    "# Apply stratified sampling\n",
    "stratified_sample_df = df.groupby('Age_Group', group_keys=False).apply(stratified_sample)\n",
    "\n",
    "# Display results\n",
    "print(\"\\nStratified Sample Distribution:\")\n",
    "print(stratified_sample_df['Age_Group'].value_counts())\n",
    "print(\"\\nStratified Sample Data:\")\n",
    "print(stratified_sample_df)\n"
   ]
  },
  {
   "cell_type": "code",
   "execution_count": 5,
   "id": "5c0854d0-6d4a-4a02-b804-758a78b0c6e5",
   "metadata": {},
   "outputs": [
    {
     "name": "stdout",
     "output_type": "stream",
     "text": [
      "    ID Department  Satisfaction_Score\n",
      "74  75         HR                  85\n",
      "70  71         HR                  80\n",
      "62  63         HR                  90\n",
      "68  69         HR                  60\n",
      "76  77         HR                  70\n",
      "59  60         HR                  85\n",
      "1    2         IT                  70\n",
      "18  19         IT                  60\n",
      "43  44         IT                  60\n",
      "45  46         IT                  80\n",
      "29  30         IT                  85\n",
      "23  24         IT                  60\n",
      "0    1         IT                  80\n",
      "48  49         IT                  60\n",
      "32  33         IT                  90\n",
      "2    3         IT                  90\n",
      "83  84  Marketing                  60\n",
      "88  89  Marketing                  60\n",
      "94  95  Marketing                  85\n",
      "96  97  Marketing                  70\n"
     ]
    },
    {
     "name": "stderr",
     "output_type": "stream",
     "text": [
      "/tmp/ipykernel_26822/1884208605.py:15: DeprecationWarning: DataFrameGroupBy.apply operated on the grouping columns. This behavior is deprecated, and in a future version of pandas the grouping columns will be excluded from the operation. Either pass `include_groups=False` to exclude the groupings or explicitly select the grouping columns after groupby to silence this warning.\n",
      "  stratified_sample = df.groupby('Department', group_keys=False).apply(\n"
     ]
    }
   ],
   "source": [
    "import pandas as pd\n",
    "\n",
    "# Create a sample dataset\n",
    "data = {\n",
    "    'ID': range(1, 101),\n",
    "    'Department': ['IT'] * 50 + ['HR'] * 30 + ['Marketing'] * 20,\n",
    "    'Satisfaction_Score': [80, 70, 90, 60, 85] * 20\n",
    "}\n",
    "df = pd.DataFrame(data)\n",
    "\n",
    "# Calculate sample size for each stratum\n",
    "stratum_sizes = df['Department'].value_counts(normalize=True) * 20  # Sample size = 20\n",
    "\n",
    "# Stratified Sampling\n",
    "stratified_sample = df.groupby('Department', group_keys=False).apply(\n",
    "    lambda x: x.sample(int(stratum_sizes[x.name]))\n",
    ")\n",
    "\n",
    "print(stratified_sample)\n"
   ]
  },
  {
   "cell_type": "code",
   "execution_count": 7,
   "id": "89e4a917-19bf-459f-8720-9fa949d8199b",
   "metadata": {},
   "outputs": [
    {
     "name": "stdout",
     "output_type": "stream",
     "text": [
      "    ID Department  Satisfaction_Score\n",
      "59  60         HR                  85\n",
      "63  64         HR                  60\n",
      "56  57         HR                  70\n",
      "65  66         HR                  80\n",
      "57  58         HR                  90\n",
      "4    5         IT                  85\n",
      "6    7         IT                  70\n",
      "0    1         IT                  80\n",
      "13  14         IT                  60\n",
      "49  50         IT                  85\n",
      "94  95  Marketing                  85\n",
      "97  98  Marketing                  90\n",
      "96  97  Marketing                  70\n",
      "95  96  Marketing                  80\n",
      "88  89  Marketing                  60\n"
     ]
    },
    {
     "name": "stderr",
     "output_type": "stream",
     "text": [
      "/tmp/ipykernel_26822/330793280.py:2: DeprecationWarning: DataFrameGroupBy.apply operated on the grouping columns. This behavior is deprecated, and in a future version of pandas the grouping columns will be excluded from the operation. Either pass `include_groups=False` to exclude the groupings or explicitly select the grouping columns after groupby to silence this warning.\n",
      "  equal_sample = df.groupby('Department', group_keys=False).apply(lambda x: x.sample(5))\n"
     ]
    }
   ],
   "source": [
    "# Equal sampling of 5 employees from each department\n",
    "equal_sample = df.groupby('Department', group_keys=False).apply(lambda x: x.sample(5))\n",
    "print(equal_sample)"
   ]
  },
  {
   "cell_type": "code",
   "execution_count": 9,
   "id": "678b3914-5e47-4d71-a038-14fab758a7eb",
   "metadata": {},
   "outputs": [
    {
     "name": "stdout",
     "output_type": "stream",
     "text": [
      "Population Distribution:\n",
      " Region\n",
      "North    0.4058\n",
      "South    0.3055\n",
      "East     0.1926\n",
      "West     0.0961\n",
      "Name: proportion, dtype: float64\n",
      "\n",
      "Sample Sizes Per Region:\n",
      " Region\n",
      "North    406\n",
      "South    306\n",
      "East     193\n",
      "West      96\n",
      "Name: proportion, dtype: int64\n",
      "\n",
      "Stratified Sample:\n",
      "       Customer_ID Region  Satisfaction_Score  Purchase_Amount\n",
      "5480         5481   East                   3      4282.472602\n",
      "8582         8583   East                   1      3320.164876\n",
      "9699         9700   East                   4      3279.602150\n",
      "4755         4756   East                   3       310.145123\n",
      "1685         1686   East                   3      2033.308614\n",
      "\n",
      "Stratified Sample Distribution:\n",
      " Region\n",
      "North    0.405594\n",
      "South    0.305694\n",
      "East     0.192807\n",
      "West     0.095904\n",
      "Name: proportion, dtype: float64\n"
     ]
    },
    {
     "name": "stderr",
     "output_type": "stream",
     "text": [
      "/tmp/ipykernel_26822/3807411618.py:26: DeprecationWarning: DataFrameGroupBy.apply operated on the grouping columns. This behavior is deprecated, and in a future version of pandas the grouping columns will be excluded from the operation. Either pass `include_groups=False` to exclude the groupings or explicitly select the grouping columns after groupby to silence this warning.\n",
      "  stratified_sample = df.groupby('Region', group_keys=False).apply(\n"
     ]
    }
   ],
   "source": [
    "import pandas as pd\n",
    "import numpy as np\n",
    "\n",
    "# Simulating a large dataset\n",
    "np.random.seed(42)\n",
    "data = {\n",
    "    'Customer_ID': range(1, 10001),  # 10,000 customers\n",
    "    'Region': np.random.choice(['North', 'South', 'East', 'West'], size=10000, p=[0.4, 0.3, 0.2, 0.1]),\n",
    "    'Satisfaction_Score': np.random.randint(1, 6, size=10000),  # Satisfaction score: 1-5\n",
    "    'Purchase_Amount': np.random.uniform(100, 5000, size=10000)  # Random purchase amounts\n",
    "}\n",
    "\n",
    "# Create a DataFrame\n",
    "df = pd.DataFrame(data)\n",
    "\n",
    "# Analyze population distribution\n",
    "region_distribution = df['Region'].value_counts(normalize=True)\n",
    "print(\"Population Distribution:\\n\", region_distribution)\n",
    "\n",
    "# Define the total sample size and calculate sample size per region\n",
    "total_sample_size = 1000\n",
    "stratum_sample_sizes = (region_distribution * total_sample_size).round().astype(int)\n",
    "print(\"\\nSample Sizes Per Region:\\n\", stratum_sample_sizes)\n",
    "\n",
    "# Perform Stratified Sampling\n",
    "stratified_sample = df.groupby('Region', group_keys=False).apply(\n",
    "    lambda x: x.sample(n=stratum_sample_sizes[x.name], random_state=42)\n",
    ")\n",
    "\n",
    "# Display Results\n",
    "print(\"\\nStratified Sample:\\n\", stratified_sample.head())\n",
    "print(\"\\nStratified Sample Distribution:\\n\", stratified_sample['Region'].value_counts(normalize=True))\n"
   ]
  },
  {
   "cell_type": "code",
   "execution_count": null,
   "id": "0a8e93ae-24f8-4273-bcef-595c062fd183",
   "metadata": {},
   "outputs": [],
   "source": []
  }
 ],
 "metadata": {
  "kernelspec": {
   "display_name": "Python 3 (ipykernel)",
   "language": "python",
   "name": "python3"
  },
  "language_info": {
   "codemirror_mode": {
    "name": "ipython",
    "version": 3
   },
   "file_extension": ".py",
   "mimetype": "text/x-python",
   "name": "python",
   "nbconvert_exporter": "python",
   "pygments_lexer": "ipython3",
   "version": "3.12.4"
  }
 },
 "nbformat": 4,
 "nbformat_minor": 5
}
