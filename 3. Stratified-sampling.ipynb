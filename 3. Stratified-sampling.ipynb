{
 "cells": [
  {
   "cell_type": "markdown",
   "id": "33e74831-bc8d-4ac8-a8b6-1ba2f3675362",
   "metadata": {},
   "source": [
    "\n",
    "### Stratified Sampling:\n",
    "Stratified sampling is a sampling technique in which the population is divided into distinct groups, called strata, based on specific characteristics (e.g., age, gender, income level). Then, a random sample is taken from each stratum, ensuring that the sample represents all subgroups in the population proportionally.\n",
    "\n",
    "This method is used to improve the representativeness of the sample, especially when the population is heterogeneous."
   ]
  },
  {
   "cell_type": "markdown",
   "id": "066a4bd7-ddcf-4521-a559-bb655874e3a8",
   "metadata": {},
   "source": [
    "### Steps in Stratified Sampling:\n",
    "1 Divide the Population into Strata:\n",
    "\n",
    "    - Identify the relevant characteristic(s) and divide the population into non-overlapping subgroups (strata).\n",
    "2 Determine Sample Size for Each Stratum:\n",
    "\n",
    "    - Decide the proportion of the sample to be taken from each stratum. This can be based on the size of the stratum relative to the entire population (proportional allocation) or a fixed number per stratum (equal allocation).\n",
    "3 Random Sampling within Strata:\n",
    "\n",
    "     - Perform simple random sampling within each stratum to select the required number of samples.\n",
    "4 Combine Samples:\n",
    "\n",
    "     - Merge the samples from all strata to form the final stratified sample."
   ]
  },
  {
   "cell_type": "code",
   "execution_count": 5,
   "id": "8b43467a-e131-443b-b5a6-3c9364df38fc",
   "metadata": {},
   "outputs": [
    {
     "name": "stdout",
     "output_type": "stream",
     "text": [
      "Population Distribution:\n",
      "Age_Group\n",
      "Adult     57\n",
      "Youth     29\n",
      "Senior    14\n",
      "Name: count, dtype: int64\n",
      "\n",
      "Stratified Sample Distribution:\n",
      "Age_Group\n",
      "Adult     17\n",
      "Youth      8\n",
      "Senior     4\n",
      "Name: count, dtype: int64\n",
      "\n",
      "Stratified Sample Data:\n",
      "    Customer_ID Age_Group  Satisfaction_Score\n",
      "4             5     Adult                   3\n",
      "11           12     Adult                   1\n",
      "52           53     Adult                   3\n",
      "25           26     Adult                   3\n",
      "61           62     Adult                   2\n",
      "98           99     Adult                   4\n",
      "47           48     Adult                   1\n",
      "55           56     Adult                   1\n",
      "82           83     Adult                   2\n",
      "24           25     Adult                   2\n",
      "84           85     Adult                   4\n",
      "7             8     Adult                   3\n",
      "79           80     Adult                   4\n",
      "46           47     Adult                   2\n",
      "16           17     Adult                   2\n",
      "30           31     Adult                   5\n",
      "13           14     Adult                   5\n",
      "71           72    Senior                   5\n",
      "87           88    Senior                   5\n",
      "1             2    Senior                   3\n",
      "90           91    Senior                   5\n",
      "93           94     Youth                   3\n",
      "57           58     Youth                   3\n",
      "42           43     Youth                   3\n",
      "68           69     Youth                   2\n",
      "27           28     Youth                   2\n",
      "33           34     Youth                   2\n",
      "65           66     Youth                   1\n",
      "0             1     Youth                   1\n"
     ]
    },
    {
     "name": "stderr",
     "output_type": "stream",
     "text": [
      "/tmp/ipykernel_32213/1112183046.py:28: DeprecationWarning: DataFrameGroupBy.apply operated on the grouping columns. This behavior is deprecated, and in a future version of pandas the grouping columns will be excluded from the operation. Either pass `include_groups=False` to exclude the groupings or explicitly select the grouping columns after groupby to silence this warning.\n",
      "  stratified_sample_df = df.groupby('Age_Group', group_keys=False).apply(stratified_sample)\n"
     ]
    }
   ],
   "source": [
    "import pandas as pd\n",
    "import numpy as np\n",
    "\n",
    "# Sample population data\n",
    "data = {\n",
    "    'Customer_ID': range(1, 101),  # 100 customers\n",
    "    'Age_Group': np.random.choice(['Youth', 'Adult', 'Senior'], size=100, p=[0.3, 0.5, 0.2]),\n",
    "    'Satisfaction_Score': np.random.randint(1, 6, size=100)  # Satisfaction scores (1–5)\n",
    "}\n",
    "\n",
    "df = pd.DataFrame(data)\n",
    "\n",
    "# Display population distribution by strata\n",
    "print(\"Population Distribution:\")\n",
    "print(df['Age_Group'].value_counts())\n",
    "\n",
    "# Stratified sampling\n",
    "sample_size = 30  # Total sample size\n",
    "strata_proportions = df['Age_Group'].value_counts(normalize=True)  # Calculate proportions\n",
    "strata_sample_sizes = (strata_proportions * sample_size).astype(int)  # Calculate samples per stratum\n",
    "\n",
    "# Function to sample within each stratum\n",
    "def stratified_sample(group):\n",
    "    n = strata_sample_sizes[group.name]  # Get sample size for the current stratum\n",
    "    return group.sample(n=n, random_state=42)\n",
    "\n",
    "# Apply stratified sampling\n",
    "stratified_sample_df = df.groupby('Age_Group', group_keys=False).apply(stratified_sample)\n",
    "\n",
    "# Display results\n",
    "print(\"\\nStratified Sample Distribution:\")\n",
    "print(stratified_sample_df['Age_Group'].value_counts())\n",
    "print(\"\\nStratified Sample Data:\")\n",
    "print(stratified_sample_df)\n"
   ]
  },
  {
   "cell_type": "code",
   "execution_count": null,
   "id": "5c0854d0-6d4a-4a02-b804-758a78b0c6e5",
   "metadata": {},
   "outputs": [],
   "source": []
  }
 ],
 "metadata": {
  "kernelspec": {
   "display_name": "Python 3 (ipykernel)",
   "language": "python",
   "name": "python3"
  },
  "language_info": {
   "codemirror_mode": {
    "name": "ipython",
    "version": 3
   },
   "file_extension": ".py",
   "mimetype": "text/x-python",
   "name": "python",
   "nbconvert_exporter": "python",
   "pygments_lexer": "ipython3",
   "version": "3.12.4"
  }
 },
 "nbformat": 4,
 "nbformat_minor": 5
}
