{
 "cells": [
  {
   "cell_type": "markdown",
   "id": "6b778443-0ce7-423c-8a76-f50a7b0a31ef",
   "metadata": {},
   "source": [
    "### Example 1"
   ]
  },
  {
   "cell_type": "code",
   "execution_count": 11,
   "id": "02532c30-e5d4-42f9-acf0-3329c4ae30d8",
   "metadata": {},
   "outputs": [
    {
     "name": "stdout",
     "output_type": "stream",
     "text": [
      "Population: [ 0  1  2  3  4  5  6  7  8  9 10 11 12 13 14 15 16 17 18 19 20]\n",
      "Sample Size: 5\n",
      "Sampling Interval: 4\n",
      "Random Starting Point: 1\n",
      "Systematic Sample: [1, 5, 9, 13, 17]\n"
     ]
    }
   ],
   "source": [
    "import numpy as np\n",
    "population=np.arange(0,21)\n",
    "sample_size=5\n",
    "interval=len(population)//sample_size\n",
    "random_start=np.random.randint(0,interval)\n",
    "systematic_sample=[x for x in range(random_start,len(population),interval)]\n",
    "\n",
    "print(\"Population:\", population)\n",
    "print(\"Sample Size:\", sample_size)\n",
    "print(\"Sampling Interval:\", interval)\n",
    "print(\"Random Starting Point:\", random_start)\n",
    "print(\"Systematic Sample:\", systematic_sample)\n",
    "             "
   ]
  },
  {
   "cell_type": "markdown",
   "id": "1436572a-0ea9-4a1d-be50-23c28e92b524",
   "metadata": {},
   "source": [
    "### example 2"
   ]
  },
  {
   "cell_type": "code",
   "execution_count": 25,
   "id": "776c99cf-96e8-49ba-96c0-ddbc8e5c6bf3",
   "metadata": {},
   "outputs": [
    {
     "name": "stdout",
     "output_type": "stream",
     "text": [
      "Total Population Size: 1000\n",
      "Sample Size: 100\n",
      "Sampling Interval: 10\n",
      "Random Starting Point: 5\n",
      "\n",
      "Systematic Sample (First 10 Rows):\n",
      "    Employee_id         Name  Department\n",
      "5             6   employee_6  Operations\n",
      "15           16  employee_16          HR\n",
      "25           26  employee_26     Finance\n",
      "35           36  employee_36          HR\n",
      "45           46  employee_46  Operations\n"
     ]
    }
   ],
   "source": [
    "import pandas as pd\n",
    "import numpy as np\n",
    "\n",
    "np.random.seed(42)\n",
    "data={\"Employee_id\":np.arange(1,1001),\n",
    "     \"Name\":[f'employee_{i}' for i in range(1,1001)],\n",
    "     \"Department\":np.random.choice(['HR', 'Finance', 'IT', 'Operations'],size=1000,replace=True)\n",
    "}\n",
    "population=pd.DataFrame(data)\n",
    "population_size=len(population)\n",
    "sample_size=100\n",
    "interval=len(population)//sample_size\n",
    "random_start=np.random.randint(0,interval)\n",
    "systematic_sample=population.iloc[random_start::interval]\n",
    "\n",
    "print(\"Total Population Size:\", population_size)\n",
    "print(\"Sample Size:\", sample_size)\n",
    "print(\"Sampling Interval:\", interval)\n",
    "print(\"Random Starting Point:\", random_start)\n",
    "print(\"\\nSystematic Sample (First 10 Rows):\")\n",
    "print(systematic_sample.head())"
   ]
  },
  {
   "cell_type": "code",
   "execution_count": null,
   "id": "08fff9ee-5dc9-49b4-9f5b-e64af326173c",
   "metadata": {},
   "outputs": [],
   "source": []
  }
 ],
 "metadata": {
  "kernelspec": {
   "display_name": "Python 3 (ipykernel)",
   "language": "python",
   "name": "python3"
  },
  "language_info": {
   "codemirror_mode": {
    "name": "ipython",
    "version": 3
   },
   "file_extension": ".py",
   "mimetype": "text/x-python",
   "name": "python",
   "nbconvert_exporter": "python",
   "pygments_lexer": "ipython3",
   "version": "3.12.4"
  }
 },
 "nbformat": 4,
 "nbformat_minor": 5
}
