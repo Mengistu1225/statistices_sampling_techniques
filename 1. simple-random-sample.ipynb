{
 "cells": [
  {
   "cell_type": "markdown",
   "id": "f7e794c8-8500-4acf-abac-9d4d6899c981",
   "metadata": {},
   "source": [
    "### example 1"
   ]
  },
  {
   "cell_type": "code",
   "execution_count": 7,
   "id": "a1bcc5de-7f60-4b86-bb18-d0ba171cd10b",
   "metadata": {},
   "outputs": [
    {
     "name": "stdout",
     "output_type": "stream",
     "text": [
      "[894, 333, 111, 861, 156, 151, 388, 590, 885, 666, 607, 217, 245, 872, 392, 561, 490, 535, 128, 389]\n"
     ]
    }
   ],
   "source": [
    "import random\n",
    "population=list(range(1,1000))\n",
    "sample_size=20\n",
    "sample=random.sample(population,sample_size)\n",
    "print(list(sample))"
   ]
  },
  {
   "cell_type": "markdown",
   "id": "20bb4c68-d8f2-47c9-8ee6-8b08afe3a398",
   "metadata": {},
   "source": [
    "### example 2"
   ]
  },
  {
   "cell_type": "code",
   "execution_count": 21,
   "id": "0f8ca362-e3a8-4f65-b58c-19318ed932a1",
   "metadata": {},
   "outputs": [
    {
     "name": "stdout",
     "output_type": "stream",
     "text": [
      "     id\n",
      "83  183\n",
      "53  153\n",
      "70  170\n",
      "45  145\n",
      "44  144\n",
      "39  139\n",
      "22  122\n",
      "80  180\n",
      "10  110\n",
      "0   100\n",
      "18  118\n",
      "30  130\n",
      "73  173\n",
      "33  133\n",
      "90  190\n",
      "4   104\n",
      "76  176\n",
      "77  177\n",
      "12  112\n",
      "31  131\n"
     ]
    }
   ],
   "source": [
    "import pandas as pd\n",
    "data={'id':range(100,200)}\n",
    "df=pd.DataFrame(data)\n",
    "sample_size=20\n",
    "sample_data=df.sample(n=sample_size,random_state=42)\n",
    "print(sample_data)\n",
    "\n"
   ]
  },
  {
   "cell_type": "markdown",
   "id": "6d03eeec-d3f5-4854-9815-52032b77454c",
   "metadata": {},
   "source": [
    "### example 3"
   ]
  },
  {
   "cell_type": "code",
   "execution_count": 24,
   "id": "20b9306d-c898-4b80-86d8-a840aca3520d",
   "metadata": {},
   "outputs": [
    {
     "name": "stdout",
     "output_type": "stream",
     "text": [
      "Population Size: 50000\n",
      "Sample Data:\n",
      "    CustomerID Location  Total_Purchases  Satisfaction_Rating\n",
      "0           1     East               26                    1\n",
      "1           2     West               26                    2\n",
      "2           3    North               17                    2\n",
      "3           4     East               95                    5\n",
      "4           5     East               83                   10\n",
      "Sample Size: 1000\n",
      "Sampled Data:\n",
      "        CustomerID Location  Total_Purchases  Satisfaction_Rating\n",
      "33553       33554     East               88                    5\n",
      "9427         9428     West               55                    1\n",
      "199           200     East               52                    4\n",
      "12447       12448     East               74                    1\n",
      "39489       39490     West               88                    8\n",
      "\n",
      "Population Location Distribution:\n",
      " Location\n",
      "North    0.25232\n",
      "West     0.25044\n",
      "South    0.24864\n",
      "East     0.24860\n",
      "Name: proportion, dtype: float64\n",
      "\n",
      "Sample Location Distribution:\n",
      " Location\n",
      "East     0.263\n",
      "West     0.259\n",
      "North    0.247\n",
      "South    0.231\n",
      "Name: proportion, dtype: float64\n"
     ]
    }
   ],
   "source": [
    "import pandas as pd\n",
    "import numpy as np\n",
    "\n",
    "\n",
    "np.random.seed(42)\n",
    "data = {\n",
    "    'CustomerID': range(1, 50001),  # 50,000 customers\n",
    "    'Location': np.random.choice(['North', 'South', 'East', 'West'], size=50000),\n",
    "    'Total_Purchases': np.random.randint(1, 100, size=50000),\n",
    "    'Satisfaction_Rating': np.random.randint(1, 11, size=50000)\n",
    "}\n",
    "df = pd.DataFrame(data)\n",
    "\n",
    "\n",
    "print(f\"Population Size: {len(df)}\")\n",
    "print(\"Sample Data:\\n\", df.head())\n",
    "\n",
    "\n",
    "sample_size = 1000\n",
    "sample = df.sample(n=sample_size, random_state=42)\n",
    "\n",
    "\n",
    "print(f\"Sample Size: {len(sample)}\")\n",
    "print(\"Sampled Data:\\n\", sample.head())\n",
    "\n",
    "\n",
    "location_distribution_population = df['Location'].value_counts(normalize=True)\n",
    "location_distribution_sample = sample['Location'].value_counts(normalize=True)\n",
    "\n",
    "print(\"\\nPopulation Location Distribution:\\n\", location_distribution_population)\n",
    "print(\"\\nSample Location Distribution:\\n\", location_distribution_sample)\n"
   ]
  },
  {
   "cell_type": "code",
   "execution_count": null,
   "id": "22b1edf6-fc6d-4844-add1-08b7e213def9",
   "metadata": {},
   "outputs": [],
   "source": []
  }
 ],
 "metadata": {
  "kernelspec": {
   "display_name": "Python 3 (ipykernel)",
   "language": "python",
   "name": "python3"
  },
  "language_info": {
   "codemirror_mode": {
    "name": "ipython",
    "version": 3
   },
   "file_extension": ".py",
   "mimetype": "text/x-python",
   "name": "python",
   "nbconvert_exporter": "python",
   "pygments_lexer": "ipython3",
   "version": "3.12.4"
  }
 },
 "nbformat": 4,
 "nbformat_minor": 5
}
